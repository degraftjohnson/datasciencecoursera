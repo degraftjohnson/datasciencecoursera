{
  "nbformat": 4,
  "nbformat_minor": 0,
  "metadata": {
    "colab": {
      "name": "Linear Regression Prac 1.ipynb",
      "version": "0.3.2",
      "provenance": [],
      "collapsed_sections": [],
      "include_colab_link": true
    },
    "kernelspec": {
      "name": "python3",
      "display_name": "Python 3"
    }
  },
  "cells": [
    {
      "cell_type": "markdown",
      "metadata": {
        "id": "view-in-github",
        "colab_type": "text"
      },
      "source": [
        "<a href=\"https://colab.research.google.com/github/degraftjohnson/datasciencecoursera/blob/master/Linear_Regression_Prac_1.ipynb\" target=\"_parent\"><img src=\"https://colab.research.google.com/assets/colab-badge.svg\" alt=\"Open In Colab\"/></a>"
      ]
    },
    {
      "cell_type": "markdown",
      "metadata": {
        "id": "XD2TkkcXS5LM",
        "colab_type": "text"
      },
      "source": [
        "## Linear Regression Prac 1\n",
        "\n",
        "### Spring School of Mathematics of Data Science (pre-cource)\n",
        "\n",
        "***Dr. Emmanuel Dufourq*** www.emmanueldufourq.com\n",
        "\n",
        "***African Institute for Mathematical Sciences***\n",
        "\n",
        "***Stellenbosch University***\n",
        "\n",
        "***2019***\n",
        "\n",
        "This notebook will make use of Scikit-learn's Linear Regression class. The documentation is found here: https://scikit-learn.org/stable/modules/generated/sklearn.linear_model.LinearRegression.html\n",
        "\n",
        "Credits:\n",
        "\n",
        "The notebooks on linear regression are modifications of various sources which include:\n",
        "https://scikit-learn.org/stable/auto_examples/linear_model/plot_ols.html\n",
        "https://medium.com/analytics-vidhya/linear-regression-using-python-ce21aa90ade6\n",
        "https://www.kdnuggets.com/2019/03/beginners-guide-linear-regression-python-scikit-learn.html/2"
      ]
    },
    {
      "cell_type": "markdown",
      "metadata": {
        "id": "LObti6L0XfQK",
        "colab_type": "text"
      },
      "source": [
        "## Various Python imports"
      ]
    },
    {
      "cell_type": "code",
      "metadata": {
        "id": "0_oxA3C0LT5E",
        "colab_type": "code",
        "colab": {}
      },
      "source": [
        "import matplotlib.pyplot as plt\n",
        "import numpy as np\n",
        "from sklearn import datasets\n",
        "from sklearn.linear_model import LinearRegression\n",
        "from sklearn.metrics import mean_squared_error, r2_score, mean_absolute_error"
      ],
      "execution_count": 0,
      "outputs": []
    },
    {
      "cell_type": "markdown",
      "metadata": {
        "id": "AwpNJvWyXhi7",
        "colab_type": "text"
      },
      "source": [
        "## Load the dataset"
      ]
    },
    {
      "cell_type": "code",
      "metadata": {
        "id": "77jn_sloQgKu",
        "colab_type": "code",
        "colab": {}
      },
      "source": [
        "diabetes = datasets.load_diabetes()"
      ],
      "execution_count": 0,
      "outputs": []
    },
    {
      "cell_type": "markdown",
      "metadata": {
        "id": "Q9cgy6f8XknX",
        "colab_type": "text"
      },
      "source": [
        "## Take a look at what has been downloaded"
      ]
    },
    {
      "cell_type": "code",
      "metadata": {
        "id": "j81ihEsxXku1",
        "colab_type": "code",
        "colab": {}
      },
      "source": [
        "diabetes"
      ],
      "execution_count": 0,
      "outputs": []
    },
    {
      "cell_type": "markdown",
      "metadata": {
        "id": "kKRdeFlWXnwG",
        "colab_type": "text"
      },
      "source": [
        "## Print out the feature names"
      ]
    },
    {
      "cell_type": "code",
      "metadata": {
        "id": "wfR_n7anLuhy",
        "colab_type": "code",
        "colab": {}
      },
      "source": [
        "diabetes['feature_names']"
      ],
      "execution_count": 0,
      "outputs": []
    },
    {
      "cell_type": "markdown",
      "metadata": {
        "id": "cpPbx9xoXqb_",
        "colab_type": "text"
      },
      "source": [
        "## Map each feature name to a number"
      ]
    },
    {
      "cell_type": "code",
      "metadata": {
        "id": "pjH-FLHlSA17",
        "colab_type": "code",
        "colab": {}
      },
      "source": [
        "{k: v for v, k in enumerate(diabetes['feature_names'])}"
      ],
      "execution_count": 0,
      "outputs": []
    },
    {
      "cell_type": "markdown",
      "metadata": {
        "id": "wwFTiqzGXvkh",
        "colab_type": "text"
      },
      "source": [
        "## Take a look at the shape of the data"
      ]
    },
    {
      "cell_type": "code",
      "metadata": {
        "id": "M6_mP7I1L1d2",
        "colab_type": "code",
        "colab": {}
      },
      "source": [
        "diabetes['data'].shape"
      ],
      "execution_count": 0,
      "outputs": []
    },
    {
      "cell_type": "markdown",
      "metadata": {
        "id": "ha5Va4J9XzOc",
        "colab_type": "text"
      },
      "source": [
        "## Take a look at the shape of the targets (what we are predicting for)"
      ]
    },
    {
      "cell_type": "code",
      "metadata": {
        "id": "ETl69lnKMF4h",
        "colab_type": "code",
        "colab": {}
      },
      "source": [
        "diabetes['target'].shape"
      ],
      "execution_count": 0,
      "outputs": []
    },
    {
      "cell_type": "markdown",
      "metadata": {
        "id": "0AYO6AASX6YP",
        "colab_type": "text"
      },
      "source": [
        "## Select a training feature\n",
        "\n",
        "In this case we will be using a single feature for training. The algorithm will then try map this feature to the targets. In this case we are randomly select the feature number 5, however, this might not be the best choice! Feature '5' corresponds to the feature 's2' in our dataset (look above at our mapping).\n",
        "\n",
        "Typically, features are denoted as X and targets as Y (some authors will use 'y' instead)."
      ]
    },
    {
      "cell_type": "code",
      "metadata": {
        "id": "KisCbn39MJJf",
        "colab_type": "code",
        "colab": {}
      },
      "source": [
        "X = diabetes.data[:, 5]\n",
        "Y = diabetes['target']"
      ],
      "execution_count": 0,
      "outputs": []
    },
    {
      "cell_type": "markdown",
      "metadata": {
        "id": "1zrf8HW2YVLg",
        "colab_type": "text"
      },
      "source": [
        "## Split the data into training and testing sets\n",
        "\n",
        "In this case we are using all the instances up to the 100th last instance to train on. We are using the last 100 instances for testing.\n",
        "\n",
        "There are many ways to split a dataset. Typically for a supervised classification problem, we would shuffle the data and then randomly split the data into training and testing, or, into training, validation and testing.\n",
        "\n",
        "In this case we are using a very trivial split to keep the code clean and easy to follow.\n",
        "\n",
        "Training and testing features are typically denoted as `X_train` and `X_test`."
      ]
    },
    {
      "cell_type": "code",
      "metadata": {
        "id": "LikuuS7eMi2V",
        "colab_type": "code",
        "colab": {}
      },
      "source": [
        "X_train = X[:-100].reshape(-1,1)\n",
        "X_test = X[-100:].reshape(-1,1)\n",
        "\n",
        "Y_train = Y[:-100]\n",
        "Y_test = Y[-100:]"
      ],
      "execution_count": 0,
      "outputs": []
    },
    {
      "cell_type": "markdown",
      "metadata": {
        "id": "sbP-izKUhrRv",
        "colab_type": "text"
      },
      "source": [
        "## Check the training features shape"
      ]
    },
    {
      "cell_type": "code",
      "metadata": {
        "id": "zuNZMEpNNPeE",
        "colab_type": "code",
        "colab": {}
      },
      "source": [
        "X_train.shape"
      ],
      "execution_count": 0,
      "outputs": []
    },
    {
      "cell_type": "markdown",
      "metadata": {
        "id": "lJu0zwVChtYJ",
        "colab_type": "text"
      },
      "source": [
        "## Check the testing features shape"
      ]
    },
    {
      "cell_type": "code",
      "metadata": {
        "id": "H_nCHlD8NUv5",
        "colab_type": "code",
        "colab": {}
      },
      "source": [
        "X_test.shape"
      ],
      "execution_count": 0,
      "outputs": []
    },
    {
      "cell_type": "markdown",
      "metadata": {
        "id": "wi-ofdiqh0yk",
        "colab_type": "text"
      },
      "source": [
        "## Define a linear regression model"
      ]
    },
    {
      "cell_type": "code",
      "metadata": {
        "id": "gO83iCvoN9_L",
        "colab_type": "code",
        "colab": {}
      },
      "source": [
        "model = LinearRegression()"
      ],
      "execution_count": 0,
      "outputs": []
    },
    {
      "cell_type": "markdown",
      "metadata": {
        "id": "0riDBRLViVgx",
        "colab_type": "text"
      },
      "source": [
        "## Look at what has just being initialised"
      ]
    },
    {
      "cell_type": "code",
      "metadata": {
        "id": "qTD3iVDNOAH_",
        "colab_type": "code",
        "colab": {}
      },
      "source": [
        "model"
      ],
      "execution_count": 0,
      "outputs": []
    },
    {
      "cell_type": "markdown",
      "metadata": {
        "id": "Yxz3JpzkiYPk",
        "colab_type": "text"
      },
      "source": [
        "## Train the model/fit the model"
      ]
    },
    {
      "cell_type": "code",
      "metadata": {
        "id": "Ig0W1x2kOBL_",
        "colab_type": "code",
        "colab": {}
      },
      "source": [
        "model.fit(X_train, Y_train)"
      ],
      "execution_count": 0,
      "outputs": []
    },
    {
      "cell_type": "markdown",
      "metadata": {
        "id": "OWHesFOViayN",
        "colab_type": "text"
      },
      "source": [
        "## Print the coefficient"
      ]
    },
    {
      "cell_type": "code",
      "metadata": {
        "id": "59ESbKCfOzQY",
        "colab_type": "code",
        "colab": {}
      },
      "source": [
        "model.coef_"
      ],
      "execution_count": 0,
      "outputs": []
    },
    {
      "cell_type": "markdown",
      "metadata": {
        "id": "o6zf86W-ievO",
        "colab_type": "text"
      },
      "source": [
        "## Print the intercept"
      ]
    },
    {
      "cell_type": "code",
      "metadata": {
        "id": "N5qLgLDCO3yS",
        "colab_type": "code",
        "colab": {}
      },
      "source": [
        "model.intercept_"
      ],
      "execution_count": 0,
      "outputs": []
    },
    {
      "cell_type": "markdown",
      "metadata": {
        "id": "9Tc6TAsCnoOe",
        "colab_type": "text"
      },
      "source": [
        "## The model\n",
        "\n",
        "The model, given the above output, is as follows:\n",
        "\n",
        "y = 309.32_x_ + 151.92"
      ]
    },
    {
      "cell_type": "markdown",
      "metadata": {
        "id": "kfxU-jjoiQbp",
        "colab_type": "text"
      },
      "source": [
        "## Apply the model to the testing features and get the predictions"
      ]
    },
    {
      "cell_type": "code",
      "metadata": {
        "id": "22Fsykp1OTTS",
        "colab_type": "code",
        "colab": {}
      },
      "source": [
        "Y_pred = model.predict(X_test)"
      ],
      "execution_count": 0,
      "outputs": []
    },
    {
      "cell_type": "markdown",
      "metadata": {
        "id": "eyLJnHB3iL09",
        "colab_type": "text"
      },
      "source": [
        "## Determine the performance of the model on the testing data\n",
        "\n",
        "There are various options, but commonly used one include:\n",
        "\n",
        "* mean squared error\n",
        "* mean absolute error\n",
        "* root mean squared error\n",
        "\n",
        "There can be implemented using scikit-learn."
      ]
    },
    {
      "cell_type": "markdown",
      "metadata": {
        "id": "iGUmefPoi7vT",
        "colab_type": "text"
      },
      "source": [
        "### Mean squared error"
      ]
    },
    {
      "cell_type": "code",
      "metadata": {
        "id": "yMmS0vBWOwa_",
        "colab_type": "code",
        "colab": {}
      },
      "source": [
        "mean_squared_error(Y_test, Y_pred)"
      ],
      "execution_count": 0,
      "outputs": []
    },
    {
      "cell_type": "markdown",
      "metadata": {
        "id": "NA_Pmv25i9h8",
        "colab_type": "text"
      },
      "source": [
        "### Mean absolute error"
      ]
    },
    {
      "cell_type": "code",
      "metadata": {
        "id": "MyujB8X6i9n7",
        "colab_type": "code",
        "colab": {}
      },
      "source": [
        "mean_absolute_error(Y_test, Y_pred)"
      ],
      "execution_count": 0,
      "outputs": []
    },
    {
      "cell_type": "markdown",
      "metadata": {
        "id": "f-3KVAc1jB7d",
        "colab_type": "text"
      },
      "source": [
        "### Root mean squared error"
      ]
    },
    {
      "cell_type": "code",
      "metadata": {
        "id": "jOf8Z-69jCEP",
        "colab_type": "code",
        "colab": {}
      },
      "source": [
        "np.sqrt(mean_squared_error(Y_test, Y_pred))"
      ],
      "execution_count": 0,
      "outputs": []
    },
    {
      "cell_type": "markdown",
      "metadata": {
        "id": "TWPjy6tEiiOV",
        "colab_type": "text"
      },
      "source": [
        "## Plot the line and the testing data"
      ]
    },
    {
      "cell_type": "code",
      "metadata": {
        "id": "OMRGyQzIPB1j",
        "colab_type": "code",
        "colab": {}
      },
      "source": [
        "plt.scatter(X_test, Y_test,  color='gray')\n",
        "plt.title('Linear Regression')\n",
        "plt.plot(X_test, Y_pred, color='red', linewidth=1)\n",
        "plt.show()"
      ],
      "execution_count": 0,
      "outputs": []
    },
    {
      "cell_type": "markdown",
      "metadata": {
        "id": "k7pMznCMjhMu",
        "colab_type": "text"
      },
      "source": [
        "## Task: determine which feature will result in the best performing model."
      ]
    },
    {
      "cell_type": "code",
      "metadata": {
        "id": "m1HvR3k0jmYY",
        "colab_type": "code",
        "colab": {}
      },
      "source": [
        ""
      ],
      "execution_count": 0,
      "outputs": []
    }
  ]
}